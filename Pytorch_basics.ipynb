{
  "nbformat": 4,
  "nbformat_minor": 0,
  "metadata": {
    "colab": {
      "provenance": [],
      "gpuType": "T4"
    },
    "kernelspec": {
      "name": "python3",
      "display_name": "Python 3"
    },
    "language_info": {
      "name": "python"
    },
    "accelerator": "GPU"
  },
  "cells": [
    {
      "cell_type": "code",
      "execution_count": 2,
      "metadata": {
        "id": "abvU8SCx5sXY"
      },
      "outputs": [],
      "source": [
        "import torch #pytorch library that helps in building the deep leanring algorithms\n",
        "from torch import nn ##nn means neural network\n",
        "from torch.utils.data import DataLoader #performs the process of batching\n",
        "from torchvision import datasets #Inbuild dataset that pytorch library has - FashionMnist Dataset\n",
        "from torchvision.transforms import ToTensor"
      ]
    },
    {
      "cell_type": "code",
      "source": [
        "training_data = datasets.FashionMNIST(root=\"data\",train=True,download=True,transform=ToTensor())\n",
        "test_data = datasets.FashionMNIST(root=\"data\",train=False,download=True,transform=ToTensor())"
      ],
      "metadata": {
        "id": "7WmCh_zG52cU",
        "colab": {
          "base_uri": "https://localhost:8080/"
        },
        "outputId": "74dd5733-449c-4027-e088-a0621e35912a"
      },
      "execution_count": 3,
      "outputs": [
        {
          "output_type": "stream",
          "name": "stdout",
          "text": [
            "Downloading http://fashion-mnist.s3-website.eu-central-1.amazonaws.com/train-images-idx3-ubyte.gz\n",
            "Downloading http://fashion-mnist.s3-website.eu-central-1.amazonaws.com/train-images-idx3-ubyte.gz to data/FashionMNIST/raw/train-images-idx3-ubyte.gz\n"
          ]
        },
        {
          "output_type": "stream",
          "name": "stderr",
          "text": [
            "100%|██████████| 26421880/26421880 [00:06<00:00, 3894316.33it/s]\n"
          ]
        },
        {
          "output_type": "stream",
          "name": "stdout",
          "text": [
            "Extracting data/FashionMNIST/raw/train-images-idx3-ubyte.gz to data/FashionMNIST/raw\n",
            "\n",
            "Downloading http://fashion-mnist.s3-website.eu-central-1.amazonaws.com/train-labels-idx1-ubyte.gz\n",
            "Downloading http://fashion-mnist.s3-website.eu-central-1.amazonaws.com/train-labels-idx1-ubyte.gz to data/FashionMNIST/raw/train-labels-idx1-ubyte.gz\n"
          ]
        },
        {
          "output_type": "stream",
          "name": "stderr",
          "text": [
            "100%|██████████| 29515/29515 [00:00<00:00, 199757.45it/s]\n"
          ]
        },
        {
          "output_type": "stream",
          "name": "stdout",
          "text": [
            "Extracting data/FashionMNIST/raw/train-labels-idx1-ubyte.gz to data/FashionMNIST/raw\n",
            "\n",
            "Downloading http://fashion-mnist.s3-website.eu-central-1.amazonaws.com/t10k-images-idx3-ubyte.gz\n",
            "Downloading http://fashion-mnist.s3-website.eu-central-1.amazonaws.com/t10k-images-idx3-ubyte.gz to data/FashionMNIST/raw/t10k-images-idx3-ubyte.gz\n"
          ]
        },
        {
          "output_type": "stream",
          "name": "stderr",
          "text": [
            "100%|██████████| 4422102/4422102 [00:01<00:00, 3740604.97it/s]\n"
          ]
        },
        {
          "output_type": "stream",
          "name": "stdout",
          "text": [
            "Extracting data/FashionMNIST/raw/t10k-images-idx3-ubyte.gz to data/FashionMNIST/raw\n",
            "\n",
            "Downloading http://fashion-mnist.s3-website.eu-central-1.amazonaws.com/t10k-labels-idx1-ubyte.gz\n",
            "Downloading http://fashion-mnist.s3-website.eu-central-1.amazonaws.com/t10k-labels-idx1-ubyte.gz to data/FashionMNIST/raw/t10k-labels-idx1-ubyte.gz\n"
          ]
        },
        {
          "output_type": "stream",
          "name": "stderr",
          "text": [
            "100%|██████████| 5148/5148 [00:00<00:00, 6016237.67it/s]"
          ]
        },
        {
          "output_type": "stream",
          "name": "stdout",
          "text": [
            "Extracting data/FashionMNIST/raw/t10k-labels-idx1-ubyte.gz to data/FashionMNIST/raw\n",
            "\n"
          ]
        },
        {
          "output_type": "stream",
          "name": "stderr",
          "text": [
            "\n"
          ]
        }
      ]
    },
    {
      "cell_type": "code",
      "source": [
        "training_data"
      ],
      "metadata": {
        "colab": {
          "base_uri": "https://localhost:8080/"
        },
        "id": "lzxX_43N6drk",
        "outputId": "a5bc5815-dc68-43f9-9898-ba4e654e180d"
      },
      "execution_count": 4,
      "outputs": [
        {
          "output_type": "execute_result",
          "data": {
            "text/plain": [
              "Dataset FashionMNIST\n",
              "    Number of datapoints: 60000\n",
              "    Root location: data\n",
              "    Split: Train\n",
              "    StandardTransform\n",
              "Transform: ToTensor()"
            ]
          },
          "metadata": {},
          "execution_count": 4
        }
      ]
    },
    {
      "cell_type": "code",
      "source": [
        "test_data"
      ],
      "metadata": {
        "colab": {
          "base_uri": "https://localhost:8080/"
        },
        "id": "nrW3MCPW6gY2",
        "outputId": "e7e9473c-f39c-4876-8fee-f6ad9a12e6f2"
      },
      "execution_count": 5,
      "outputs": [
        {
          "output_type": "execute_result",
          "data": {
            "text/plain": [
              "Dataset FashionMNIST\n",
              "    Number of datapoints: 10000\n",
              "    Root location: data\n",
              "    Split: Test\n",
              "    StandardTransform\n",
              "Transform: ToTensor()"
            ]
          },
          "metadata": {},
          "execution_count": 5
        }
      ]
    },
    {
      "cell_type": "markdown",
      "source": [
        "**Batching of this data**\n",
        "\n",
        "\n",
        "\n"
      ],
      "metadata": {
        "id": "H9TIrVA66puM"
      }
    },
    {
      "cell_type": "code",
      "source": [
        "batch_size = 64\n",
        "\n",
        "train_dataloader = DataLoader(training_data,batch_size=batch_size)\n",
        "test_dataloader = DataLoader(test_data,batch_size=batch_size)"
      ],
      "metadata": {
        "id": "Zh1heI0x6nBP"
      },
      "execution_count": 6,
      "outputs": []
    },
    {
      "cell_type": "code",
      "source": [
        "\n",
        "for X,y in test_dataloader: #Image - Color image shape (batch_size,number of channel,length,width)\n",
        "  print(X.shape)            #Image - Black and white image - number of channels is 1\n",
        "  print(y.shape)\n",
        "  break"
      ],
      "metadata": {
        "colab": {
          "base_uri": "https://localhost:8080/"
        },
        "id": "3XpmHcHJ7aEt",
        "outputId": "3f8e6fc2-eff7-42c8-a1eb-b4871be5435a"
      },
      "execution_count": 7,
      "outputs": [
        {
          "output_type": "stream",
          "name": "stdout",
          "text": [
            "torch.Size([64, 1, 28, 28])\n",
            "torch.Size([64])\n"
          ]
        }
      ]
    },
    {
      "cell_type": "code",
      "source": [
        "\n",
        "device = \"cuda\" if torch.cuda.is_available() else \"cpu\" #torch.cuda.is_available() checks for your system has gpu or cpu\n",
        "device"
      ],
      "metadata": {
        "colab": {
          "base_uri": "https://localhost:8080/",
          "height": 36
        },
        "id": "CXzvihYd7gRo",
        "outputId": "a445695a-a785-43a9-e3cb-9bf202fc54f8"
      },
      "execution_count": 8,
      "outputs": [
        {
          "output_type": "execute_result",
          "data": {
            "text/plain": [
              "'cuda'"
            ],
            "application/vnd.google.colaboratory.intrinsic+json": {
              "type": "string"
            }
          },
          "metadata": {},
          "execution_count": 8
        }
      ]
    },
    {
      "cell_type": "code",
      "source": [
        "class NeuralNetwork(nn.Module): #Child class and nn.Module is a parent class -- (defined in the pytorch library)\n",
        "\n",
        "  def __init__(self): #declare the architecture\n",
        "    super().__init__() #basically initailizes all the variables of the parent class\n",
        "    self.flatten = nn.Flatten() #28x28 image into a 764x1 vector\n",
        "    self.linear1 = nn.Linear(28*28,512)\n",
        "    self.linear2 = nn.Linear(512,512)\n",
        "    self.linear3 = nn.Linear(512,10)\n",
        "    self.relu = nn.ReLU()\n",
        "  def forward(self,x):#is always used to pass the inputs to the neural network\n",
        "    x = self.flatten(x)\n",
        "    x = self.linear1(x)\n",
        "    x = self.relu(x)\n",
        "    x = self.linear2(x)\n",
        "    x = self.relu(x)\n",
        "    x = self.linear3(x)\n",
        "    return x"
      ],
      "metadata": {
        "id": "Xtle_yPE7nq6"
      },
      "execution_count": 9,
      "outputs": []
    },
    {
      "cell_type": "code",
      "source": [
        "model = NeuralNetwork()\n",
        "model = model.to(device) #copies your entire architecture to the GPU"
      ],
      "metadata": {
        "id": "j6r2L97__UbO"
      },
      "execution_count": 10,
      "outputs": []
    },
    {
      "cell_type": "code",
      "source": [
        "loss_fn = nn.CrossEntropyLoss() #cross entropy loss\n",
        "optimizer = torch.optim.SGD(model.parameters(),lr=1e-3) #stochastic Gradient descent"
      ],
      "metadata": {
        "id": "BFNuTM0C_eOG"
      },
      "execution_count": 11,
      "outputs": []
    },
    {
      "cell_type": "code",
      "source": [
        "#steps in the GD : Batch of the input / Pass it to the model / Compute loss function / Update the weights\n",
        "\n",
        "def train(dataloader,model,loss_fn,optimizer):\n",
        "  model.train() #putting the model in the training mode\n",
        "  for batch,(X,y) in enumerate(dataloader):\n",
        "    #sending the data to the GPU\n",
        "    X = X.to(device)\n",
        "    y = y.to(device)\n",
        "\n",
        "    #Compute predictions\n",
        "    pred = model(X)\n",
        "\n",
        "    #Compute loss\n",
        "    loss = loss_fn(pred,y)\n",
        "\n",
        "    #Backpropogation\n",
        "    loss.backward() #Wnew = Wold - lr*dl/dw\n",
        "    optimizer.step()\n",
        "    optimizer.zero_grad()\n",
        "\n",
        "    if batch % 100 == 0:\n",
        "      print(f'Loss of the Model {loss.item()}')\n"
      ],
      "metadata": {
        "id": "cRxwYptFCpmH"
      },
      "execution_count": 12,
      "outputs": []
    },
    {
      "cell_type": "code",
      "source": [
        "def test(dataloader,model,loss_fn):\n",
        "  model.eval() #putting the model in the training mode\n",
        "  num_batched = len(dataloader)\n",
        "  test_loss, correct = 0,0\n",
        "  with torch.no_grad(): #We will not compute gradients for the test data\n",
        "    for X,y in dataloader:\n",
        "      X = X.to(device)\n",
        "      y = y.to(device)\n",
        "\n",
        "      #Compute predictions\n",
        "      pred = model(X)\n",
        "\n",
        "      #Compute loss\n",
        "      test_loss += loss_fn(pred,y).item()\n",
        "\n",
        "      #Find how many correct predictions\n",
        "      correct += (pred.argmax(1) == y).type(torch.float).sum().item()\n",
        "  test_loss = test_loss/num_batched\n",
        "  correct = correct/(len(dataloader.dataset))\n",
        "\n",
        "  print(f'Test Accuracy {100*correct}, Avg_loss : {test_loss}')\n"
      ],
      "metadata": {
        "id": "fFuIiH3hCtSJ"
      },
      "execution_count": 13,
      "outputs": []
    },
    {
      "cell_type": "code",
      "source": [
        "epochs = 5\n",
        "\n",
        "for t in range(5):\n",
        "  print(f'Epoch {t+1}')\n",
        "  train(train_dataloader,model,loss_fn,optimizer)\n",
        "  test(test_dataloader,model,loss_fn)\n"
      ],
      "metadata": {
        "colab": {
          "base_uri": "https://localhost:8080/"
        },
        "id": "-bIqY4FmC5a5",
        "outputId": "eb361eee-0d4c-4783-c795-b58962ad17da"
      },
      "execution_count": 14,
      "outputs": [
        {
          "output_type": "stream",
          "name": "stdout",
          "text": [
            "Epoch 1\n",
            "Loss of the Model 2.2981934547424316\n",
            "Loss of the Model 2.2877535820007324\n",
            "Loss of the Model 2.2648966312408447\n",
            "Loss of the Model 2.264340877532959\n",
            "Loss of the Model 2.2448341846466064\n",
            "Loss of the Model 2.2199087142944336\n",
            "Loss of the Model 2.2235374450683594\n",
            "Loss of the Model 2.1929092407226562\n",
            "Loss of the Model 2.1876072883605957\n",
            "Loss of the Model 2.1571896076202393\n",
            "Test Accuracy 54.22, Avg_loss : 2.1491740083998176\n",
            "Epoch 2\n",
            "Loss of the Model 2.1570186614990234\n",
            "Loss of the Model 2.1439690589904785\n",
            "Loss of the Model 2.0889885425567627\n",
            "Loss of the Model 2.1115853786468506\n",
            "Loss of the Model 2.0485575199127197\n",
            "Loss of the Model 2.0040485858917236\n",
            "Loss of the Model 2.0265016555786133\n",
            "Loss of the Model 1.9525222778320312\n",
            "Loss of the Model 1.9594354629516602\n",
            "Loss of the Model 1.8843637704849243\n",
            "Test Accuracy 58.919999999999995, Avg_loss : 1.8800443646254812\n",
            "Epoch 3\n",
            "Loss of the Model 1.9110862016677856\n",
            "Loss of the Model 1.8773503303527832\n",
            "Loss of the Model 1.7673988342285156\n",
            "Loss of the Model 1.8111333847045898\n",
            "Loss of the Model 1.6886433362960815\n",
            "Loss of the Model 1.6604596376419067\n",
            "Loss of the Model 1.6753729581832886\n",
            "Loss of the Model 1.5812033414840698\n",
            "Loss of the Model 1.6071447134017944\n",
            "Loss of the Model 1.4974617958068848\n",
            "Test Accuracy 61.82, Avg_loss : 1.5141016578978035\n",
            "Epoch 4\n",
            "Loss of the Model 1.577724575996399\n",
            "Loss of the Model 1.5429027080535889\n",
            "Loss of the Model 1.397544026374817\n",
            "Loss of the Model 1.4692779779434204\n",
            "Loss of the Model 1.3416577577590942\n",
            "Loss of the Model 1.3520522117614746\n",
            "Loss of the Model 1.3621199131011963\n",
            "Loss of the Model 1.2871363162994385\n",
            "Loss of the Model 1.3187857866287231\n",
            "Loss of the Model 1.2182921171188354\n",
            "Test Accuracy 64.1, Avg_loss : 1.2440026945369258\n",
            "Epoch 5\n",
            "Loss of the Model 1.3137054443359375\n",
            "Loss of the Model 1.3019475936889648\n",
            "Loss of the Model 1.135097861289978\n",
            "Loss of the Model 1.2424477338790894\n",
            "Loss of the Model 1.111165165901184\n",
            "Loss of the Model 1.1462630033493042\n",
            "Loss of the Model 1.1686060428619385\n",
            "Loss of the Model 1.102792501449585\n",
            "Loss of the Model 1.135829210281372\n",
            "Loss of the Model 1.0546658039093018\n",
            "Test Accuracy 65.49000000000001, Avg_loss : 1.0757128224251375\n"
          ]
        }
      ]
    },
    {
      "cell_type": "code",
      "source": [
        "torch.save(model.state_dict(),\"/content/iteration1.pth\")"
      ],
      "metadata": {
        "id": "HIJWgfbIC8aE"
      },
      "execution_count": 15,
      "outputs": []
    },
    {
      "cell_type": "code",
      "source": [
        "\n",
        "model = NeuralNetwork().to(device)\n",
        "model.load_state_dict(torch.load(\"/content/iteration1.pth\"))"
      ],
      "metadata": {
        "colab": {
          "base_uri": "https://localhost:8080/"
        },
        "id": "ByuCGBjaC-4Z",
        "outputId": "9228f38b-0a0e-44a2-af75-065cccc13734"
      },
      "execution_count": 16,
      "outputs": [
        {
          "output_type": "execute_result",
          "data": {
            "text/plain": [
              "<All keys matched successfully>"
            ]
          },
          "metadata": {},
          "execution_count": 16
        }
      ]
    },
    {
      "cell_type": "code",
      "source": [
        "\n",
        "classes = [\"T-shirt/top\",\"Trouser\",\"Pullover\",\"Dress\",\"Coat\",\"Sandal\",\"Shirt\",\"Sneaker\",\"Bag\",\"Ankle Boot\"]\n",
        "\n",
        "model.eval()\n",
        "X,y = test_data[0][0], test_data[0][1]\n",
        "\n",
        "with torch.no_grad():\n",
        "  X = X.to(device)\n",
        "  pred = model(X)\n",
        "  predicted,actual = classes[pred[0].argmax(0)],classes[y]\n",
        "  print(f'Predicted {predicted}')\n",
        "  print(f'Actual {actual}')"
      ],
      "metadata": {
        "colab": {
          "base_uri": "https://localhost:8080/"
        },
        "id": "0cmxrVZUD1D9",
        "outputId": "6505e977-7290-4b9a-eccc-322998e85e6d"
      },
      "execution_count": 17,
      "outputs": [
        {
          "output_type": "stream",
          "name": "stdout",
          "text": [
            "Predicted Ankle Boot\n",
            "Actual Ankle Boot\n"
          ]
        }
      ]
    },
    {
      "cell_type": "code",
      "source": [
        "y"
      ],
      "metadata": {
        "colab": {
          "base_uri": "https://localhost:8080/"
        },
        "id": "r7tqatRqzMP9",
        "outputId": "aebddd97-a477-42b1-8837-609baa3e7f00"
      },
      "execution_count": 18,
      "outputs": [
        {
          "output_type": "execute_result",
          "data": {
            "text/plain": [
              "9"
            ]
          },
          "metadata": {},
          "execution_count": 18
        }
      ]
    }
  ]
}